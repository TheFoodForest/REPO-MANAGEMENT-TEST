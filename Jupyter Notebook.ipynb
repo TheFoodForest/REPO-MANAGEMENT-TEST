{
 "cells": [
  {
   "cell_type": "code",
   "execution_count": 1,
   "metadata": {},
   "outputs": [
    {
     "data": {
      "text/plain": [
       "130"
      ]
     },
     "execution_count": 1,
     "metadata": {},
     "output_type": "execute_result"
    }
   ],
   "source": [
    "def dot_product(x,y):\n",
    "    return sum(map((lambda x,y : x*y),x,y))\n",
    "\n",
    "x = [1,2,3,4,5]\n",
    "y = [6,7,8,9,10]\n",
    "\n",
    "dot_product(x,y)"
   ]
  },
  {
   "cell_type": "code",
   "execution_count": 2,
   "metadata": {},
   "outputs": [
    {
     "name": "stdout",
     "output_type": "stream",
     "text": [
      "1\n",
      "2\n",
      "3\n",
      "5\n",
      "8\n",
      "13\n",
      "21\n",
      "34\n",
      "55\n",
      "89\n",
      "144\n"
     ]
    }
   ],
   "source": [
    "#fibonanchi series, each number is the sum of the previous two\n",
    "\n",
    "a = 1\n",
    "b = 1\n",
    "while a < 100:\n",
    "    a,b = b, a+b\n",
    "    print(a)\n",
    "    \n",
    "    \n",
    "    \n",
    "    \n",
    "    \n",
    "    \n",
    "    \n",
    "    \n",
    "#####TESTING ADDING A COMMENT WITHIN AN EXISTING CELL \n",
    "#### I see your comment"
   ]
  },
  {
   "cell_type": "code",
   "execution_count": null,
   "metadata": {},
   "outputs": [],
   "source": [
    "# From: https://www.quora.com/What-are-some-cool-Python-programs-that-require-less-than-50-lines-of-code\n",
    "\n",
    "import turtle\n",
    "import math\n",
    "import colorsys\n",
    " \n",
    "phi = 180 * (3 - math.sqrt(5))\n",
    " \n",
    "t = turtle.Pen()\n",
    "t.speed(0)\n",
    " \n",
    "def square(t, size):\n",
    "    for tmp in range(0,4):\n",
    "        t.forward(size)\n",
    "        t.right(90)\n",
    " \n",
    " \n",
    "num = 200\n",
    " \n",
    "for x in reversed(range(0, num)):\n",
    "    t.fillcolor(colorsys.hsv_to_rgb(x/num, 1.0, 1.0))\n",
    "    t.begin_fill()\n",
    "    t.circle(5 + x, None, 11)\n",
    "    square(t, 5 + x)\n",
    "    t.end_fill()\n",
    "    t.right(phi)\n",
    "    t.right(.8)\n",
    " \n",
    "turtle.mainloop()"
   ]
  },
  {
   "cell_type": "code",
   "execution_count": 1,
   "metadata": {},
   "outputs": [
    {
     "name": "stdout",
     "output_type": "stream",
     "text": [
      "Test\n"
     ]
    }
   ],
   "source": [
    "#test new code \n",
    "print('Test')"
   ]
  },
  {
   "cell_type": "code",
   "execution_count": 2,
   "metadata": {},
   "outputs": [
    {
     "name": "stdout",
     "output_type": "stream",
     "text": [
      "test cell\n"
     ]
    }
   ],
   "source": [
    "#testing new cell and new code \n",
    "\n",
    "print(\"test cell\")"
   ]
  },
  {
   "cell_type": "markdown",
   "metadata": {},
   "source": [
    "# Testing new markdown"
   ]
  },
  {
   "cell_type": "code",
   "execution_count": null,
   "metadata": {},
   "outputs": [],
   "source": []
  }
 ],
 "metadata": {
  "kernelspec": {
   "display_name": "Python 3",
   "language": "python",
   "name": "python3"
  },
  "language_info": {
   "codemirror_mode": {
    "name": "ipython",
    "version": 3
   },
   "file_extension": ".py",
   "mimetype": "text/x-python",
   "name": "python",
   "nbconvert_exporter": "python",
   "pygments_lexer": "ipython3",
   "version": "3.7.3"
  }
 },
 "nbformat": 4,
 "nbformat_minor": 4
}
